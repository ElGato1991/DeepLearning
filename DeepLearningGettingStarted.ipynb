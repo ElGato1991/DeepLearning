{
 "cells": [
  {
   "cell_type": "markdown",
   "id": "776a81b8",
   "metadata": {},
   "source": [
    "# First Step: fit()  & predict()\n",
    "fit(X, y) gets the trainingdata X and the output vector y\n",
    "predict(Z) gets the test data and out puts the estimation"
   ]
  },
  {
   "cell_type": "code",
   "execution_count": 5,
   "id": "d876aab6",
   "metadata": {},
   "outputs": [
    {
     "data": {
      "text/plain": [
       "array([1, 0])"
      ]
     },
     "execution_count": 5,
     "metadata": {},
     "output_type": "execute_result"
    }
   ],
   "source": [
    "from sklearn.ensemble import RandomForestClassifier\n",
    "clf = RandomForestClassifier(random_state=0)\n",
    "\n",
    "# Training data\n",
    "X = [[ 1,  2,  3],  # 2 samples, 3 features\n",
    "     [11, 12, 13]]\n",
    "\n",
    "# Output vector\n",
    "y = [0, 1]  # classes of each sample\n",
    "\n",
    "# Fit the model (training)\n",
    "clf.fit(X, y)\n",
    "\n",
    "# Test data\n",
    "Z = ([8, 9, 10],  # 2 samples, 3 features\n",
    "     [3, 2, 1])\n",
    "\n",
    "# Predict the Test data\n",
    "clf.predict(Z)"
   ]
  },
  {
   "cell_type": "markdown",
   "id": "ade8d866",
   "metadata": {},
   "source": [
    "# Transformers and pre-processors\n",
    "\n",
    "If the data set contains data with a big ranges between the features (e.g. age (18–85) & income (800–12 000)) the data can be scaled by a transformer.\n",
    "\n",
    "With the StandardScaler the data is read column wise and then mean and std is calculated and used instead to make the columns more compareable\n",
    "\n",
    "$$x'=\\frac{x-\\mu}{\\sigma}$$\n",
    "\n",
    "but standard deviation can be 0, thats why scale_ is used with 0 = 1\n",
    "$$x' = \\frac{x - \\text{mean\\_}}{\\text{scale\\_}}$$\n",
    "\n",
    "In most cases used for MLP"
   ]
  },
  {
   "cell_type": "code",
   "execution_count": 21,
   "id": "9703fd0b",
   "metadata": {},
   "outputs": [
    {
     "data": {
      "text/plain": [
       "array([0, 1])"
      ]
     },
     "execution_count": 21,
     "metadata": {},
     "output_type": "execute_result"
    }
   ],
   "source": [
    "from sklearn.preprocessing import StandardScaler\n",
    "\n",
    "# sample data with age and income features\n",
    "\n",
    "X = [[18, 20000],\n",
    "     [25, 21000],\n",
    "     [28, 25000],\n",
    "     [29, 24000],\n",
    "     [30, 40000],\n",
    "     [40, 50000],\n",
    "     [50, 60000],\n",
    "     [60, 100000]]\n",
    "\n",
    "# scale data according to computed scaling values\n",
    "\n",
    "StandardScaler().fit(X).transform(X) # fit calculates mean and std, transform applies the scaling\n",
    "StandardScaler().fit_transform(X) # fit and transform in one step\n",
    "\n",
    "# training RandomForestClassifier with scaled data\n",
    "y = [0, 0, 0, 0, 1, 1, 1, 1] # classes of each sample\n",
    "\n",
    "clf.fit(StandardScaler().fit_transform(X), y)\n",
    "\n",
    "# predicting with scaled test data\n",
    "Z = [[20, 25000],\n",
    "     [40, 90000]]\n",
    "\n",
    "clf.predict(StandardScaler().fit_transform(Z))\n"
   ]
  }
 ],
 "metadata": {
  "kernelspec": {
   "display_name": "sklearn-env",
   "language": "python",
   "name": "python3"
  },
  "language_info": {
   "codemirror_mode": {
    "name": "ipython",
    "version": 3
   },
   "file_extension": ".py",
   "mimetype": "text/x-python",
   "name": "python",
   "nbconvert_exporter": "python",
   "pygments_lexer": "ipython3",
   "version": "3.14.0"
  }
 },
 "nbformat": 4,
 "nbformat_minor": 5
}
