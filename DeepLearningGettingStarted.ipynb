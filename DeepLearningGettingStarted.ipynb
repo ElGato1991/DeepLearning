{
 "cells": [
  {
   "cell_type": "markdown",
   "id": "776a81b8",
   "metadata": {},
   "source": [
    "# First Step: fit()  & predict()\n",
    "fit(X, y) gets the trainingdata X and the output vector y\n",
    "predict(Z) gets the test data and out puts the estimation"
   ]
  },
  {
   "cell_type": "code",
   "execution_count": 5,
   "id": "d876aab6",
   "metadata": {},
   "outputs": [
    {
     "data": {
      "text/plain": [
       "array([1, 0])"
      ]
     },
     "execution_count": 5,
     "metadata": {},
     "output_type": "execute_result"
    }
   ],
   "source": [
    "from sklearn.ensemble import RandomForestClassifier\n",
    "clf = RandomForestClassifier(random_state=0)\n",
    "\n",
    "# Training data\n",
    "X = [[ 1,  2,  3],  # 2 samples, 3 features\n",
    "     [11, 12, 13]]\n",
    "\n",
    "# Output vector\n",
    "y = [0, 1]  # classes of each sample\n",
    "\n",
    "# Fit the model (training)\n",
    "clf.fit(X, y)\n",
    "\n",
    "# Test data\n",
    "Z = ([8, 9, 10],  # 2 samples, 3 features\n",
    "     [3, 2, 1])\n",
    "\n",
    "# Predict the Test data\n",
    "clf.predict(Z)"
   ]
  },
  {
   "cell_type": "markdown",
   "id": "ade8d866",
   "metadata": {},
   "source": [
    "# Transformers and pre-processors\n",
    "\n",
    "If the data set contains data with a big ranges between the features (e.g. age (18–85) & income (800–12 000)) the data can be scaled by a transformer.\n",
    "\n",
    "With the StandardScaler the data is read column wise and then mean and std is calculated and used instead to make the columns more compareable\n",
    "\n",
    "$$x'=\\frac{x-\\mu}{\\sigma}$$\n",
    "\n",
    "In most cases used for MLP"
   ]
  },
  {
   "cell_type": "code",
   "execution_count": null,
   "id": "9703fd0b",
   "metadata": {},
   "outputs": [
    {
     "name": "stdout",
     "output_type": "stream",
     "text": [
      "StandardScaler()\n"
     ]
    }
   ],
   "source": [
    "from sklearn.preprocessing import StandardScaler\n",
    "X = [[0, 15],\n",
    "     [1, -10],\n",
    "     [2, 5],\n",
    "     [3, 0]]\n",
    "# scale data according to computed scaling values\n",
    "\n",
    "fitted = StandardScaler().fit(X)\n",
    "fitted.transform(X)\n"
   ]
  }
 ],
 "metadata": {
  "kernelspec": {
   "display_name": "sklearn-env",
   "language": "python",
   "name": "python3"
  },
  "language_info": {
   "codemirror_mode": {
    "name": "ipython",
    "version": 3
   },
   "file_extension": ".py",
   "mimetype": "text/x-python",
   "name": "python",
   "nbconvert_exporter": "python",
   "pygments_lexer": "ipython3",
   "version": "3.14.0"
  }
 },
 "nbformat": 4,
 "nbformat_minor": 5
}
